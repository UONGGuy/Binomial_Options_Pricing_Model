{
 "cells": [
  {
   "cell_type": "markdown",
   "id": "de726db3",
   "metadata": {},
   "source": [
    "# Scrape APIs for options and risk-free rates data"
   ]
  },
  {
   "cell_type": "markdown",
   "id": "4c9653fd",
   "metadata": {},
   "source": [
    "Suggestions for looking for API sources:\n",
    "- BoE \n",
    "- ONS \n",
    "- UK Gov\n",
    "- World Bank\n",
    "- IMF\n",
    "- UN\n",
    "- FiscalData.Treasury.gov"
   ]
  },
  {
   "cell_type": "code",
   "execution_count": 116,
   "id": "931ac932",
   "metadata": {},
   "outputs": [],
   "source": [
    "from pathlib import Path\n",
    "import matplotlib.pyplot as plt\n",
    "import pandas as pd\n",
    "import requests\n",
    "from datetime import datetime as dt\n",
    "import json\n",
    "import re"
   ]
  },
  {
   "cell_type": "code",
   "execution_count": 117,
   "id": "30080c32",
   "metadata": {},
   "outputs": [
    {
     "name": "stdout",
     "output_type": "stream",
     "text": [
      "Options data\n",
      " dict_keys(['s', 'updated', 'bid', 'bidSize', 'mid', 'ask', 'askSize', 'last', 'openInterest', 'volume', 'inTheMoney', 'intrinsicValue', 'extrinsicValue', 'underlyingPrice']) \n",
      "\n"
     ]
    }
   ],
   "source": [
    "## Options data\n",
    "\n",
    "## API URL\n",
    "url_marketData = \"https://api.marketdata.app/v1/options/quotes/\"\n",
    "\n",
    "## Option symbol for AAPL Jan 2025 150.000 call\n",
    "optSymbol = \"AAPL250117C00150000/\" \n",
    "\n",
    "## Parameters for data\n",
    "end_date = dt.today() # use \"atexpiration\" for expiration date - doesn't seem to work right now\n",
    "start_date = end_date - pd.Timedelta(days=5*366) # use \"firsttraded\" for earliest - doesn't seem to work right now\n",
    "optParams = {\n",
    "    \"from\": start_date, \n",
    "    \"to\": end_date,\n",
    "    \"dateformat\": \"timestamp\",\n",
    "}\n",
    "\n",
    "## Get Options data from API\n",
    "r_option = requests.get(url_marketData + optSymbol, optParams)\n",
    "data_opt = r_option.json()\n",
    "print(\"Options data\\n\", data_opt.keys(), '\\n')"
   ]
  },
  {
   "cell_type": "code",
   "execution_count": 118,
   "id": "b28b9ca2",
   "metadata": {},
   "outputs": [
    {
     "data": {
      "text/html": [
       "<div>\n",
       "<style scoped>\n",
       "    .dataframe tbody tr th:only-of-type {\n",
       "        vertical-align: middle;\n",
       "    }\n",
       "\n",
       "    .dataframe tbody tr th {\n",
       "        vertical-align: top;\n",
       "    }\n",
       "\n",
       "    .dataframe thead th {\n",
       "        text-align: right;\n",
       "    }\n",
       "</style>\n",
       "<table border=\"1\" class=\"dataframe\">\n",
       "  <thead>\n",
       "    <tr style=\"text-align: right;\">\n",
       "      <th></th>\n",
       "      <th>bid</th>\n",
       "      <th>ask</th>\n",
       "      <th>underlyingPrice</th>\n",
       "    </tr>\n",
       "    <tr>\n",
       "      <th>updated</th>\n",
       "      <th></th>\n",
       "      <th></th>\n",
       "      <th></th>\n",
       "    </tr>\n",
       "  </thead>\n",
       "  <tbody>\n",
       "    <tr>\n",
       "      <th>2022-09-12 16:00:00-04:00</th>\n",
       "      <td>43.00</td>\n",
       "      <td>44.30</td>\n",
       "      <td>163.43</td>\n",
       "    </tr>\n",
       "    <tr>\n",
       "      <th>2022-09-13 16:00:00-04:00</th>\n",
       "      <td>37.00</td>\n",
       "      <td>39.30</td>\n",
       "      <td>153.84</td>\n",
       "    </tr>\n",
       "    <tr>\n",
       "      <th>2022-09-14 16:00:00-04:00</th>\n",
       "      <td>36.75</td>\n",
       "      <td>39.80</td>\n",
       "      <td>155.31</td>\n",
       "    </tr>\n",
       "    <tr>\n",
       "      <th>2022-09-15 16:00:00-04:00</th>\n",
       "      <td>36.65</td>\n",
       "      <td>37.30</td>\n",
       "      <td>152.37</td>\n",
       "    </tr>\n",
       "    <tr>\n",
       "      <th>2022-09-16 16:00:00-04:00</th>\n",
       "      <td>35.35</td>\n",
       "      <td>37.75</td>\n",
       "      <td>150.70</td>\n",
       "    </tr>\n",
       "    <tr>\n",
       "      <th>...</th>\n",
       "      <td>...</td>\n",
       "      <td>...</td>\n",
       "      <td>...</td>\n",
       "    </tr>\n",
       "    <tr>\n",
       "      <th>2023-04-25 16:00:00-04:00</th>\n",
       "      <td>36.70</td>\n",
       "      <td>38.00</td>\n",
       "      <td>163.77</td>\n",
       "    </tr>\n",
       "    <tr>\n",
       "      <th>2023-04-26 16:00:00-04:00</th>\n",
       "      <td>36.50</td>\n",
       "      <td>37.75</td>\n",
       "      <td>163.76</td>\n",
       "    </tr>\n",
       "    <tr>\n",
       "      <th>2023-04-27 16:00:00-04:00</th>\n",
       "      <td>40.40</td>\n",
       "      <td>40.85</td>\n",
       "      <td>168.41</td>\n",
       "    </tr>\n",
       "    <tr>\n",
       "      <th>2023-04-28 16:00:00-04:00</th>\n",
       "      <td>41.25</td>\n",
       "      <td>41.70</td>\n",
       "      <td>169.68</td>\n",
       "    </tr>\n",
       "    <tr>\n",
       "      <th>2023-05-01 16:00:00-04:00</th>\n",
       "      <td>40.90</td>\n",
       "      <td>41.85</td>\n",
       "      <td>169.59</td>\n",
       "    </tr>\n",
       "  </tbody>\n",
       "</table>\n",
       "<p>161 rows × 3 columns</p>\n",
       "</div>"
      ],
      "text/plain": [
       "                             bid    ask  underlyingPrice\n",
       "updated                                                 \n",
       "2022-09-12 16:00:00-04:00  43.00  44.30           163.43\n",
       "2022-09-13 16:00:00-04:00  37.00  39.30           153.84\n",
       "2022-09-14 16:00:00-04:00  36.75  39.80           155.31\n",
       "2022-09-15 16:00:00-04:00  36.65  37.30           152.37\n",
       "2022-09-16 16:00:00-04:00  35.35  37.75           150.70\n",
       "...                          ...    ...              ...\n",
       "2023-04-25 16:00:00-04:00  36.70  38.00           163.77\n",
       "2023-04-26 16:00:00-04:00  36.50  37.75           163.76\n",
       "2023-04-27 16:00:00-04:00  40.40  40.85           168.41\n",
       "2023-04-28 16:00:00-04:00  41.25  41.70           169.68\n",
       "2023-05-01 16:00:00-04:00  40.90  41.85           169.59\n",
       "\n",
       "[161 rows x 3 columns]"
      ]
     },
     "metadata": {},
     "output_type": "display_data"
    }
   ],
   "source": [
    "## Data to DataFrame\n",
    "to_keep = [\"updated\", \"bid\", \"ask\", \"underlyingPrice\"]\n",
    "to_drop = [\"s\", \"bidSize\", \"mid\", \"askSize\", \"last\", \"openInterest\", \"volume\", \"inTheMoney\", \"intrinsicValue\", \"extrinsicValue\"]\n",
    "df_opt = pd.DataFrame.from_dict(data_opt).drop(columns=to_drop).set_index(\"updated\")\n",
    "df_opt.index = pd.to_datetime(df_opt.index)\n",
    "display(df_opt)\n",
    "\n",
    "## Method to view missing dates (non-trading days)\n",
    "# print(pd.date_range(start = df_opt.index[0], end = df_opt.index[-1]).difference(df_opt.index))"
   ]
  },
  {
   "cell_type": "markdown",
   "id": "9c88c2bc",
   "metadata": {},
   "source": [
    "# Calculate volatilities: implied, historical, beta, VIX"
   ]
  },
  {
   "cell_type": "markdown",
   "id": "719af2b2",
   "metadata": {},
   "source": [
    "## Historical volatility (HV)\n",
    "$$HV = \\frac{\\text{underlying standard deviation}}{\\text{number of trading days}}$$"
   ]
  },
  {
   "cell_type": "code",
   "execution_count": 119,
   "id": "baacabbe",
   "metadata": {},
   "outputs": [
    {
     "name": "stdout",
     "output_type": "stream",
     "text": [
      "Historical volatility = 6.438402721226025%\n"
     ]
    }
   ],
   "source": [
    "## Calculate stdev of underlying\n",
    "underlying_stdev = df_opt['underlyingPrice'].std()\n",
    "\n",
    "## Calculate time period of data\n",
    "## check correct time (i.e. is it counted in full days)\n",
    "time_period = len(df_opt) # Number of trading days\n",
    "\n",
    "HV = underlying_stdev / time_period\n",
    "\n",
    "print(f\"Historical volatility = {HV * 100}%\")"
   ]
  },
  {
   "cell_type": "markdown",
   "id": "bcb6e70e",
   "metadata": {},
   "source": [
    "# Calculate risk-free rate of return"
   ]
  },
  {
   "cell_type": "code",
   "execution_count": 120,
   "id": "37465971",
   "metadata": {
    "scrolled": true
   },
   "outputs": [
    {
     "name": "stdout",
     "output_type": "stream",
     "text": [
      "Inflation data\n",
      "dict_keys(['@context', 'dimensions', 'limit', 'links', 'observations', 'offset', 'total_observations', 'unit_of_measure'])\n"
     ]
    }
   ],
   "source": [
    "## Inflation rate data\n",
    "\n",
    "## API URL\n",
    "url_inflation = \"https://api.beta.ons.gov.uk/v1/datasets/cpih01\"\n",
    "r_version_data = requests.get(url_inflation + \"/editions\")\n",
    "\n",
    "## URL giving links to download datasets in other file formats\n",
    "url_inflationRate = r_version_data.json()[\"items\"][0][\"links\"][\"latest_version\"][\"href\"]\n",
    "\n",
    "## Parameter: Aggregate\n",
    "r_aggregate_options = requests.get(url_inflationRate + \"/dimensions/aggregate/options\")\n",
    "# print(json.dumps(r_aggregate_options.json(), indent=2))\n",
    "aggregate_options = {}\n",
    "for item in r_aggregate_options.json()[\"items\"]: # iterate through list of dicts\n",
    "    aggregate_options[item[\"label\"]] = item[\"option\"]\n",
    "# print(json.dumps(aggregate_options, indent=2))\n",
    "aggregate_param = aggregate_options[\"Overall Index\"]\n",
    "\n",
    "## Parameter: Location\n",
    "r_geography_options = requests.get(url_inflationRate + \"/dimensions/geography/options\")\n",
    "# print(json.dumps(r_geography_options.json(), indent=2))\n",
    "geography_options = {}\n",
    "for item in r_geography_options.json()[\"items\"]:\n",
    "    geography_options[item[\"label\"]] = item[\"option\"]\n",
    "# print(json.dumps(geography_options, indent=2))\n",
    "geography_param = geography_options[\"United Kingdom\"]\n",
    "\n",
    "## Parameter: Time\n",
    "r_time_options = requests.get(url_inflationRate + \"/dimensions/time/options\")\n",
    "# print(json.dumps(r_time_options.json(), indent=2))\n",
    "time_options = []\n",
    "for item in r_time_options.json()[\"items\"]:\n",
    "    time_options.append(item[\"option\"])\n",
    "time_options = sorted(time_options, key=lambda t: dt.strptime(t, \"%b-%y\"))\n",
    "# print(time_options)\n",
    "time_param = time_options[-1]\n",
    "\n",
    "## Parameters for data\n",
    "inflParams = { # can use wildcard \"*\" to retrieve all values for one param at a time\n",
    "    \"time\": \"*\",\n",
    "    \"geography\": geography_param,\n",
    "    \"aggregate\": aggregate_param,\n",
    "}\n",
    "\n",
    "## Get inflation data from API\n",
    "r_inflation = requests.get(url_inflationRate + \"/observations\", inflParams)\n",
    "data_infl = r_inflation.json()\n",
    "print(\"Inflation data\")\n",
    "print(data_infl.keys())\n",
    "# print(json.dumps(data_infl, indent=2))"
   ]
  },
  {
   "cell_type": "code",
   "execution_count": 121,
   "id": "72aaf311",
   "metadata": {
    "scrolled": false
   },
   "outputs": [
    {
     "name": "stdout",
     "output_type": "stream",
     "text": [
      "CPIH index values (Unit of measure given by Index: 2015 = 100.0)\n"
     ]
    },
    {
     "data": {
      "text/html": [
       "<div>\n",
       "<style scoped>\n",
       "    .dataframe tbody tr th:only-of-type {\n",
       "        vertical-align: middle;\n",
       "    }\n",
       "\n",
       "    .dataframe tbody tr th {\n",
       "        vertical-align: top;\n",
       "    }\n",
       "\n",
       "    .dataframe thead th {\n",
       "        text-align: right;\n",
       "    }\n",
       "</style>\n",
       "<table border=\"1\" class=\"dataframe\">\n",
       "  <thead>\n",
       "    <tr style=\"text-align: right;\">\n",
       "      <th></th>\n",
       "      <th>CPIH</th>\n",
       "    </tr>\n",
       "    <tr>\n",
       "      <th>Date</th>\n",
       "      <th></th>\n",
       "    </tr>\n",
       "  </thead>\n",
       "  <tbody>\n",
       "    <tr>\n",
       "      <th>Jan-88</th>\n",
       "      <td>46.9</td>\n",
       "    </tr>\n",
       "    <tr>\n",
       "      <th>Feb-88</th>\n",
       "      <td>47.0</td>\n",
       "    </tr>\n",
       "    <tr>\n",
       "      <th>Mar-88</th>\n",
       "      <td>47.2</td>\n",
       "    </tr>\n",
       "    <tr>\n",
       "      <th>Apr-88</th>\n",
       "      <td>47.8</td>\n",
       "    </tr>\n",
       "    <tr>\n",
       "      <th>May-88</th>\n",
       "      <td>48.0</td>\n",
       "    </tr>\n",
       "    <tr>\n",
       "      <th>...</th>\n",
       "      <td>...</td>\n",
       "    </tr>\n",
       "    <tr>\n",
       "      <th>Nov-22</th>\n",
       "      <td>124.8</td>\n",
       "    </tr>\n",
       "    <tr>\n",
       "      <th>Dec-22</th>\n",
       "      <td>125.3</td>\n",
       "    </tr>\n",
       "    <tr>\n",
       "      <th>Jan-23</th>\n",
       "      <td>124.8</td>\n",
       "    </tr>\n",
       "    <tr>\n",
       "      <th>Feb-23</th>\n",
       "      <td>126.0</td>\n",
       "    </tr>\n",
       "    <tr>\n",
       "      <th>Mar-23</th>\n",
       "      <td>126.8</td>\n",
       "    </tr>\n",
       "  </tbody>\n",
       "</table>\n",
       "<p>423 rows × 1 columns</p>\n",
       "</div>"
      ],
      "text/plain": [
       "         CPIH\n",
       "Date         \n",
       "Jan-88   46.9\n",
       "Feb-88   47.0\n",
       "Mar-88   47.2\n",
       "Apr-88   47.8\n",
       "May-88   48.0\n",
       "...       ...\n",
       "Nov-22  124.8\n",
       "Dec-22  125.3\n",
       "Jan-23  124.8\n",
       "Feb-23  126.0\n",
       "Mar-23  126.8\n",
       "\n",
       "[423 rows x 1 columns]"
      ]
     },
     "metadata": {},
     "output_type": "display_data"
    },
    {
     "name": "stdout",
     "output_type": "stream",
     "text": [
      "12 Month inflation rate:  8.841201716738196%\n"
     ]
    }
   ],
   "source": [
    "## Data to DataFrame\n",
    "\n",
    "# print(json.dumps(data_infl[\"observations\"], indent=2))\n",
    "base_measure_year = int(re.search(r\"(?<=:\\s)(.*?)(?==)\", data_infl[\"unit_of_measure\"]).group(0))\n",
    "base_index = float(re.search(r'(?<==)\\w+', obs_measure).group(0))\n",
    "data_obs = []\n",
    "\n",
    "for datum in data_infl[\"observations\"]:\n",
    "    data_obs.append([datum[\"dimensions\"][\"Time\"][\"id\"], float(datum[\"observation\"])])\n",
    "\n",
    "print(f\"CPIH index values (Unit of measure given by Index: {base_measure_year} = {base_index})\")\n",
    "\n",
    "column_names = [\"Date\", \"CPIH\"]\n",
    "df_infl = pd.DataFrame(data_obs, columns=column_names).set_index(\"Date\")\n",
    "df_infl.sort_index(inplace=True, key=lambda x : pd.to_datetime(x, format=\"%b-%y\"))\n",
    "display(df_infl)\n",
    "\n",
    "if len(df_infl) != data_infl[\"total_observations\"]:\n",
    "    print(\"Mismatch in number of observations transferred to DataFrame.\")\n",
    "    \n",
    "\n",
    "## Inflation = (Value in Target year - Value in base year) / (Value in Base year) * 100 (%)\n",
    "## Consider different methods for calculating inflation rate:\n",
    "## - Base year = Unit of measure year <- use this for now\n",
    "## - Base year = Year option was first traded\n",
    "## - Base year = Current year - expected duration of investment\n",
    "\n",
    "## Reference for comparison:\n",
    "## https://www.ons.gov.uk/economy/inflationandpriceindices/bulletins/consumerpriceinflation/march2023#:~:text=The%20CPIH%20inflation%20rate%20is,down%20from%2013.4%25%20in%20February.\n",
    "\n",
    "## Calculate 12-month inflation rate as a standard measure\n",
    "inflationRate_12M = (df_infl.iloc[-1][\"CPIH\"] - df_infl.iloc[-13][\"CPIH\"]) / df_infl.iloc[-13][\"CPIH\"]\n",
    "print(\"12 Month inflation rate: \", f\"{inflationRate_12M * 100}%\")"
   ]
  },
  {
   "cell_type": "code",
   "execution_count": 122,
   "id": "4b87a716",
   "metadata": {
    "scrolled": true
   },
   "outputs": [],
   "source": [
    "## Bond yield data\n",
    "\n",
    "## Use information from UK Debt Management Office\n",
    "## https://www.dmo.gov.uk/data/pdfdatareport?reportCode=D1A\n",
    "\n",
    "## Pick Treasury Gilt 2025 with highest yield as no reason to take a lower yield\n",
    "\n",
    "giltYield = 0.05"
   ]
  },
  {
   "cell_type": "markdown",
   "id": "f5385b5e",
   "metadata": {},
   "source": [
    "# Risk-free rate\n",
    "\n",
    "Formulae sources:\n",
    "- Investopedia\n",
    "- WallStreetPrep\n",
    "$$ \\text{real risk free rate} = \\text{inflation rate} - \\text{bond yield (match investment duration)} $$\n",
    "\n",
    "\n",
    "$$ \\text{nominal risk free rate} = \\text{(1 + real risk free rate)} \\times \\text{(1 + inflation rate)} - 1$$"
   ]
  },
  {
   "cell_type": "code",
   "execution_count": 123,
   "id": "35b63c09",
   "metadata": {},
   "outputs": [
    {
     "name": "stdout",
     "output_type": "stream",
     "text": [
      "Real risk-free rate: 3.841201716738195%\n",
      "Nominal risk-free rate: 13.02201182560001%\n"
     ]
    }
   ],
   "source": [
    "# Risk-Free rate \n",
    "\n",
    "realRfRate = inflationRate_12M - giltYield\n",
    "nomRfRate = (1 + realRfRate) * (1 + inflationRate_12M) - 1\n",
    "\n",
    "print(f\"Real risk-free rate: {realRfRate * 100}%\")\n",
    "print(f\"Nominal risk-free rate: {nomRfRate * 100}%\")"
   ]
  }
 ],
 "metadata": {
  "kernelspec": {
   "display_name": "Python [conda env:myenv] *",
   "language": "python",
   "name": "conda-env-myenv-py"
  },
  "language_info": {
   "codemirror_mode": {
    "name": "ipython",
    "version": 3
   },
   "file_extension": ".py",
   "mimetype": "text/x-python",
   "name": "python",
   "nbconvert_exporter": "python",
   "pygments_lexer": "ipython3",
   "version": "3.10.11"
  }
 },
 "nbformat": 4,
 "nbformat_minor": 5
}
