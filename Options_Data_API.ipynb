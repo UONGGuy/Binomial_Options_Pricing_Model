{
 "cells": [
  {
   "cell_type": "markdown",
   "id": "de726db3",
   "metadata": {},
   "source": [
    "# Scape APIs for options and risk-free rates data"
   ]
  },
  {
   "cell_type": "code",
   "execution_count": 79,
   "id": "931ac932",
   "metadata": {},
   "outputs": [],
   "source": [
    "from pathlib import Path\n",
    "import matplotlib.pyplot as plt\n",
    "import pandas as pd\n",
    "import requests\n",
    "from datetime import datetime as dt\n",
    "import json"
   ]
  },
  {
   "cell_type": "code",
   "execution_count": 80,
   "id": "30080c32",
   "metadata": {},
   "outputs": [
    {
     "name": "stdout",
     "output_type": "stream",
     "text": [
      "Options data\n",
      " dict_keys(['s', 'updated', 'bid', 'bidSize', 'mid', 'ask', 'askSize', 'last', 'openInterest', 'volume', 'inTheMoney', 'intrinsicValue', 'extrinsicValue', 'underlyingPrice']) \n",
      "\n"
     ]
    }
   ],
   "source": [
    "## Options data\n",
    "\n",
    "## API URL\n",
    "url_marketData = \"https://api.marketdata.app/v1/options/quotes/\"\n",
    "\n",
    "## Option symbol for AAPL Jan 2025 150.000 call\n",
    "optSymbol = \"AAPL250117C00150000/\" \n",
    "\n",
    "## Parameters for data\n",
    "end_date = dt.today() # use \"atexpiration\" for expiration date - doesn't seem to work right now\n",
    "start_date = end_date - pd.Timedelta(days=5*366) # use \"firsttraded\" for earliest - doesn't seem to work right now\n",
    "optParams = {\n",
    "    \"from\": start_date, \n",
    "    \"to\": end_date,\n",
    "    \"dateformat\": \"timestamp\",\n",
    "}\n",
    "\n",
    "## Get Options data from API\n",
    "r_option = requests.get(url_marketData + optSymbol, optParams)\n",
    "data_opt = r_option.json()\n",
    "print(\"Options data\\n\", data_opt.keys(), '\\n')"
   ]
  },
  {
   "cell_type": "code",
   "execution_count": 81,
   "id": "b28b9ca2",
   "metadata": {},
   "outputs": [
    {
     "data": {
      "text/html": [
       "<div>\n",
       "<style scoped>\n",
       "    .dataframe tbody tr th:only-of-type {\n",
       "        vertical-align: middle;\n",
       "    }\n",
       "\n",
       "    .dataframe tbody tr th {\n",
       "        vertical-align: top;\n",
       "    }\n",
       "\n",
       "    .dataframe thead th {\n",
       "        text-align: right;\n",
       "    }\n",
       "</style>\n",
       "<table border=\"1\" class=\"dataframe\">\n",
       "  <thead>\n",
       "    <tr style=\"text-align: right;\">\n",
       "      <th></th>\n",
       "      <th>bid</th>\n",
       "      <th>ask</th>\n",
       "      <th>underlyingPrice</th>\n",
       "    </tr>\n",
       "    <tr>\n",
       "      <th>updated</th>\n",
       "      <th></th>\n",
       "      <th></th>\n",
       "      <th></th>\n",
       "    </tr>\n",
       "  </thead>\n",
       "  <tbody>\n",
       "    <tr>\n",
       "      <th>2022-09-12 16:00:00-04:00</th>\n",
       "      <td>43.00</td>\n",
       "      <td>44.30</td>\n",
       "      <td>163.43</td>\n",
       "    </tr>\n",
       "    <tr>\n",
       "      <th>2022-09-13 16:00:00-04:00</th>\n",
       "      <td>37.00</td>\n",
       "      <td>39.30</td>\n",
       "      <td>153.84</td>\n",
       "    </tr>\n",
       "    <tr>\n",
       "      <th>2022-09-14 16:00:00-04:00</th>\n",
       "      <td>36.75</td>\n",
       "      <td>39.80</td>\n",
       "      <td>155.31</td>\n",
       "    </tr>\n",
       "    <tr>\n",
       "      <th>2022-09-15 16:00:00-04:00</th>\n",
       "      <td>36.65</td>\n",
       "      <td>37.30</td>\n",
       "      <td>152.37</td>\n",
       "    </tr>\n",
       "    <tr>\n",
       "      <th>2022-09-16 16:00:00-04:00</th>\n",
       "      <td>35.35</td>\n",
       "      <td>37.75</td>\n",
       "      <td>150.70</td>\n",
       "    </tr>\n",
       "    <tr>\n",
       "      <th>...</th>\n",
       "      <td>...</td>\n",
       "      <td>...</td>\n",
       "      <td>...</td>\n",
       "    </tr>\n",
       "    <tr>\n",
       "      <th>2023-04-24 16:00:00-04:00</th>\n",
       "      <td>38.00</td>\n",
       "      <td>38.65</td>\n",
       "      <td>165.33</td>\n",
       "    </tr>\n",
       "    <tr>\n",
       "      <th>2023-04-25 16:00:00-04:00</th>\n",
       "      <td>36.70</td>\n",
       "      <td>38.00</td>\n",
       "      <td>163.77</td>\n",
       "    </tr>\n",
       "    <tr>\n",
       "      <th>2023-04-26 16:00:00-04:00</th>\n",
       "      <td>36.50</td>\n",
       "      <td>37.75</td>\n",
       "      <td>163.76</td>\n",
       "    </tr>\n",
       "    <tr>\n",
       "      <th>2023-04-27 16:00:00-04:00</th>\n",
       "      <td>40.40</td>\n",
       "      <td>40.85</td>\n",
       "      <td>168.41</td>\n",
       "    </tr>\n",
       "    <tr>\n",
       "      <th>2023-04-28 16:00:00-04:00</th>\n",
       "      <td>41.25</td>\n",
       "      <td>41.70</td>\n",
       "      <td>169.68</td>\n",
       "    </tr>\n",
       "  </tbody>\n",
       "</table>\n",
       "<p>160 rows × 3 columns</p>\n",
       "</div>"
      ],
      "text/plain": [
       "                             bid    ask  underlyingPrice\n",
       "updated                                                 \n",
       "2022-09-12 16:00:00-04:00  43.00  44.30           163.43\n",
       "2022-09-13 16:00:00-04:00  37.00  39.30           153.84\n",
       "2022-09-14 16:00:00-04:00  36.75  39.80           155.31\n",
       "2022-09-15 16:00:00-04:00  36.65  37.30           152.37\n",
       "2022-09-16 16:00:00-04:00  35.35  37.75           150.70\n",
       "...                          ...    ...              ...\n",
       "2023-04-24 16:00:00-04:00  38.00  38.65           165.33\n",
       "2023-04-25 16:00:00-04:00  36.70  38.00           163.77\n",
       "2023-04-26 16:00:00-04:00  36.50  37.75           163.76\n",
       "2023-04-27 16:00:00-04:00  40.40  40.85           168.41\n",
       "2023-04-28 16:00:00-04:00  41.25  41.70           169.68\n",
       "\n",
       "[160 rows x 3 columns]"
      ]
     },
     "metadata": {},
     "output_type": "display_data"
    }
   ],
   "source": [
    "## Data to DataFrame\n",
    "to_keep = [\"updated\", \"bid\", \"ask\", \"underlyingPrice\"]\n",
    "to_drop = [\"s\", \"bidSize\", \"mid\", \"askSize\", \"last\", \"openInterest\", \"volume\", \"inTheMoney\", \"intrinsicValue\", \"extrinsicValue\"]\n",
    "df_opt = pd.DataFrame.from_dict(data_opt).drop(columns=to_drop).set_index(\"updated\")\n",
    "df_opt.index = pd.to_datetime(df_opt.index)\n",
    "display(df_opt)\n",
    "\n",
    "## Method to view missing dates (non-trading days)\n",
    "# print(pd.date_range(start = df_opt.index[0], end = df_opt.index[-1]).difference(df_opt.index))"
   ]
  },
  {
   "cell_type": "markdown",
   "id": "9c88c2bc",
   "metadata": {},
   "source": [
    "# Calculate volatilities: implied, historical, beta, VIX"
   ]
  },
  {
   "cell_type": "markdown",
   "id": "719af2b2",
   "metadata": {},
   "source": [
    "## Historical volatility (HV)\n",
    "$$HV = \\frac{stdev}{\\#trading\\_days}$$"
   ]
  },
  {
   "cell_type": "code",
   "execution_count": 82,
   "id": "baacabbe",
   "metadata": {},
   "outputs": [
    {
     "name": "stdout",
     "output_type": "stream",
     "text": [
      "0.06411812164730626\n"
     ]
    }
   ],
   "source": [
    "## Calculate stdev of underlying\n",
    "underlying_stdev = df_opt['underlyingPrice'].std()\n",
    "\n",
    "## Calculate time period of data\n",
    "## check correct time (i.e. is it counted in full days)\n",
    "time_period = len(df_opt) # Number of trading days\n",
    "\n",
    "HV = underlying_stdev / time_period\n",
    "\n",
    "print(HV)"
   ]
  },
  {
   "cell_type": "markdown",
   "id": "bcb6e70e",
   "metadata": {},
   "source": [
    "# Calculate risk-free rate of return"
   ]
  },
  {
   "cell_type": "code",
   "execution_count": 109,
   "id": "37465971",
   "metadata": {
    "scrolled": true
   },
   "outputs": [
    {
     "name": "stdout",
     "output_type": "stream",
     "text": [
      "Inflation data\n",
      "dict_keys(['@context', 'dimensions', 'limit', 'links', 'observations', 'offset', 'total_observations', 'unit_of_measure'])\n",
      "{\n",
      "  \"@context\": \"https://cdn.ons.gov.uk/assets/json-ld/context.json\",\n",
      "  \"dimensions\": {\n",
      "    \"aggregate\": {\n",
      "      \"option\": {\n",
      "        \"href\": \"https://api.beta.ons.gov.uk/v1/code-lists/cpih1dim1aggid/codes/CP00\",\n",
      "        \"id\": \"CP00\"\n",
      "      }\n",
      "    },\n",
      "    \"geography\": {\n",
      "      \"option\": {\n",
      "        \"href\": \"https://api.beta.ons.gov.uk/v1/code-lists/uk-only/codes/K02000001\",\n",
      "        \"id\": \"K02000001\"\n",
      "      }\n",
      "    },\n",
      "    \"time\": {\n",
      "      \"option\": {\n",
      "        \"href\": \"https://api.beta.ons.gov.uk/v1/code-lists/mmm-yy/codes/Mar-23\",\n",
      "        \"id\": \"Mar-23\"\n",
      "      }\n",
      "    }\n",
      "  },\n",
      "  \"limit\": 10000,\n",
      "  \"links\": {\n",
      "    \"dataset_metadata\": {\n",
      "      \"href\": \"https://api.beta.ons.gov.uk/v1/metadata\"\n",
      "    },\n",
      "    \"self\": {\n",
      "      \"href\": \"https://api.beta.ons.gov.uk/v1/datasets/cpih01/editions/time-series/versions//observations?aggregate=CP00&geography=K02000001&time=Mar-23\"\n",
      "    },\n",
      "    \"version\": {\n",
      "      \"href\": \"https://api.beta.ons.gov.uk/v1\"\n",
      "    }\n",
      "  },\n",
      "  \"observations\": [\n",
      "    {\n",
      "      \"observation\": \"126.8\"\n",
      "    }\n",
      "  ],\n",
      "  \"offset\": 0,\n",
      "  \"total_observations\": 1,\n",
      "  \"unit_of_measure\": \"Index: 2015=100\"\n",
      "}\n"
     ]
    }
   ],
   "source": [
    "## Inflation rate data\n",
    "\n",
    "## API URL\n",
    "url_inflation = \"https://api.beta.ons.gov.uk/v1/datasets/cpih01\"\n",
    "r_version_data = requests.get(url_inflation + \"/editions\")\n",
    "\n",
    "## URL giving links to download datasets in other file formats\n",
    "url_inflationRate = r_version_data.json()[\"items\"][0][\"links\"][\"latest_version\"][\"href\"]\n",
    "\n",
    "## Parameter: Aggregate\n",
    "r_aggregate_options = requests.get(url_inflationRate + \"/dimensions/aggregate/options\")\n",
    "# print(json.dumps(r_aggregate_options.json(), indent=2))\n",
    "aggregate_options = {}\n",
    "for item in r_aggregate_options.json()[\"items\"]: # iterate through list of dicts\n",
    "    aggregate_options[item[\"label\"]] = item[\"option\"]\n",
    "# print(json.dumps(aggregate_options, indent=2))\n",
    "aggregate_param = aggregate_options[\"Overall Index\"]\n",
    "\n",
    "## Parameter: Location\n",
    "r_geography_options = requests.get(url_inflationRate + \"/dimensions/geography/options\")\n",
    "# print(json.dumps(r_geography_options.json(), indent=2))\n",
    "geography_options = {}\n",
    "for item in r_geography_options.json()[\"items\"]:\n",
    "    geography_options[item[\"label\"]] = item[\"option\"]\n",
    "# print(json.dumps(geography_options, indent=2))\n",
    "geography_param = geography_options[\"United Kingdom\"]\n",
    "\n",
    "## Parameter: Time\n",
    "r_time_options = requests.get(url_inflationRate + \"/dimensions/time/options\")\n",
    "# print(json.dumps(r_time_options.json(), indent=2))\n",
    "time_options = []\n",
    "for item in r_time_options.json()[\"items\"]:\n",
    "    time_options.append(item[\"option\"])\n",
    "time_options = sorted(time_options, key=lambda t: dt.strptime(t, \"%b-%y\"))\n",
    "# print(time_options)\n",
    "time_param = time_options[-1]\n",
    "\n",
    "## Parameters for data\n",
    "inflParams = { # can use wildcard \"*\" to retrieve all values for one param at a time\n",
    "    \"time\": time_param,\n",
    "    \"geography\": geography_param,\n",
    "    \"aggregate\": aggregate_param,\n",
    "}\n",
    "\n",
    "## Get inflation data from API\n",
    "r_inflation = requests.get(url_inflationRate + \"/observations\", inflParams)\n",
    "data_infl = r_inflation.json()\n",
    "print(\"Inflation data\")\n",
    "print(data_infl.keys())\n",
    "print(json.dumps(data_infl, indent=2))"
   ]
  },
  {
   "cell_type": "code",
   "execution_count": 120,
   "id": "72aaf311",
   "metadata": {},
   "outputs": [
    {
     "data": {
      "text/html": [
       "<div>\n",
       "<style scoped>\n",
       "    .dataframe tbody tr th:only-of-type {\n",
       "        vertical-align: middle;\n",
       "    }\n",
       "\n",
       "    .dataframe tbody tr th {\n",
       "        vertical-align: top;\n",
       "    }\n",
       "\n",
       "    .dataframe thead th {\n",
       "        text-align: right;\n",
       "    }\n",
       "</style>\n",
       "<table border=\"1\" class=\"dataframe\">\n",
       "  <thead>\n",
       "    <tr style=\"text-align: right;\">\n",
       "      <th></th>\n",
       "      <th>Total observations</th>\n",
       "      <th>CPIH value</th>\n",
       "      <th>Unit of measure</th>\n",
       "    </tr>\n",
       "    <tr>\n",
       "      <th>Date</th>\n",
       "      <th></th>\n",
       "      <th></th>\n",
       "      <th></th>\n",
       "    </tr>\n",
       "  </thead>\n",
       "  <tbody>\n",
       "    <tr>\n",
       "      <th>Mar-23</th>\n",
       "      <td>1</td>\n",
       "      <td>126.8</td>\n",
       "      <td>Index: 2015=100</td>\n",
       "    </tr>\n",
       "  </tbody>\n",
       "</table>\n",
       "</div>"
      ],
      "text/plain": [
       "        Total observations CPIH value  Unit of measure\n",
       "Date                                                  \n",
       "Mar-23                   1      126.8  Index: 2015=100"
      ]
     },
     "metadata": {},
     "output_type": "display_data"
    }
   ],
   "source": [
    "## Data to DataFrame\n",
    "\n",
    "## Need to collate data differently for multiple dates (from the data_infl[\"observations\"] \n",
    "## which is a list -> dict entries for details, observation values correspond to prev dict entry)\n",
    "\n",
    "obs_time = data_infl[\"dimensions\"][\"time\"][\"option\"][\"id\"]\n",
    "obs_made = data_infl[\"total_observations\"]\n",
    "obs_values = data_infl[\"observations\"][0][\"observation\"]\n",
    "obs_measure = data_infl[\"unit_of_measure\"]\n",
    "\n",
    "## WHAT DO I TAKE THE INFLATION BASE YEAR AS? UNIT OF MEASURE? -> EXPECTED LENGTH OF INVESTMENT - CURRENT YEAR?\n",
    "## Inflation = (Value in Target year - Value in base year) / (Value in Base year) * 100 (%)\n",
    "\n",
    "column_names = [\"Date\", \"Total observations\", \"CPIH value\", \"Unit of measure\", \"Current Inflation rate\"]\n",
    "df_infl = pd.DataFrame(columns=column_names).set_index(\"Date\")\n",
    "df_infl.loc[obs_time] = [obs_made, obs_values, obs_measure]\n",
    "display(df_infl)\n"
   ]
  },
  {
   "cell_type": "code",
   "execution_count": null,
   "id": "4b87a716",
   "metadata": {
    "scrolled": true
   },
   "outputs": [],
   "source": [
    "## Bond yield data\n",
    "url_bondYields = \"\""
   ]
  },
  {
   "cell_type": "code",
   "execution_count": null,
   "id": "35b63c09",
   "metadata": {},
   "outputs": [],
   "source": [
    "# Risk-Free rate of return = \n",
    "# current inflation rate - yield of treasury bond (same duration)\n",
    "# Try BoE API, ONS API, UK Gov API"
   ]
  }
 ],
 "metadata": {
  "kernelspec": {
   "display_name": "Python [conda env:myenv] *",
   "language": "python",
   "name": "conda-env-myenv-py"
  },
  "language_info": {
   "codemirror_mode": {
    "name": "ipython",
    "version": 3
   },
   "file_extension": ".py",
   "mimetype": "text/x-python",
   "name": "python",
   "nbconvert_exporter": "python",
   "pygments_lexer": "ipython3",
   "version": "3.10.11"
  }
 },
 "nbformat": 4,
 "nbformat_minor": 5
}
